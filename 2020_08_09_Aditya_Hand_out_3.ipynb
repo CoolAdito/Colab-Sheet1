{
  "nbformat": 4,
  "nbformat_minor": 0,
  "metadata": {
    "colab": {
      "name": "2020-08-09_Aditya_Hand out 3",
      "provenance": [],
      "collapsed_sections": [],
      "include_colab_link": true
    },
    "kernelspec": {
      "name": "python3",
      "display_name": "Python 3"
    }
  },
  "cells": [
    {
      "cell_type": "markdown",
      "metadata": {
        "id": "view-in-github",
        "colab_type": "text"
      },
      "source": [
        "<a href=\"https://colab.research.google.com/github/CoolAdito/Colab-Sheet1/blob/master/2020_08_09_Aditya_Hand_out_3.ipynb\" target=\"_parent\"><img src=\"https://colab.research.google.com/assets/colab-badge.svg\" alt=\"Open In Colab\"/></a>"
      ]
    },
    {
      "cell_type": "markdown",
      "metadata": {
        "id": "YZnBY81YDCCr",
        "colab_type": "text"
      },
      "source": [
        "### Table of Contents\n",
        "\n",
        "Here is a list of Activities that you will be performing in this Hand Out.\n",
        "\n",
        "  1. Multiply Number with Previous Number\n",
        "\n",
        "  2. Stupid Addition"
      ]
    },
    {
      "cell_type": "markdown",
      "metadata": {
        "id": "BBqkpH4_Doqe",
        "colab_type": "text"
      },
      "source": [
        "---"
      ]
    },
    {
      "cell_type": "markdown",
      "metadata": {
        "id": "q4fH06mIjuK3",
        "colab_type": "text"
      },
      "source": [
        "### Activity 1: Multiply Number with Previous Number \n",
        "\n",
        "Write a function to print the result of a number multiplied with its previous number until the previous number is 1.\n",
        "\n",
        "For eg: If the number is 5, then result = 5 * 4 * 3 * 2 * 1 = 120\n",
        "\n",
        "You have to follow the below steps to achieve the intended result for the above problem statement:\n",
        "\n",
        "  - Step 1: Get the input from user to enter a number between 10 - 20 and store it in variable `num` as an `integer` data type.\n",
        "\n",
        "  - Step 2: Create a function `multiplier` and pass `n` as the parameter of function.  \n",
        "\n",
        "  - Step 3: Check whether user has entered a positive number using an `if` condition. If the user enters a negative number then you can show the message `Sorry, the result cannot be negative`. If the user enters `1` then you can directly show `The result is 1`\n",
        "\n",
        "  - Step 4: If the user enters a number greater than 0 then you must,\n",
        "\n",
        "      1. Initialize a variable `mult = 1`.\n",
        "\n",
        "      2. In a `while` loop you should multiply value stored in variable `mult` with value stored in variable `n`.\n",
        "\n",
        "      3. Decrement the value of `n` on each execution of the `while` loop.\n",
        "\n",
        "  - Step 5: Print the result. (The result for `num` is `fact`)\n",
        "\n",
        "  - Step 6: Finally call the `multiplier` function and pass the variable `num` (variable that has stored the value entered by the user) as a parameter.\n",
        "\n"
      ]
    },
    {
      "cell_type": "code",
      "metadata": {
        "id": "4EAoTskqg041",
        "colab_type": "code",
        "colab": {}
      },
      "source": [
        "# Write your solution here\n",
        "num=input(\"enter number between 10 to 20\")\n",
        "num=int(num)\n",
        "def multiplier(n):\n",
        "  if n<0:\n",
        "    print(\"Sorry,the result cannot be negative\")\n",
        "  elif n==1:\n",
        "    print(\"The result is 1\")\n",
        "  else:\n",
        "    mult = 1\n",
        "    while n>=1:\n",
        "      mult=mult*n\n",
        "      n-=1\n",
        "    fact=mult\n",
        "    print(\"The result for\",num,\"is\",fact )\n",
        "multiplier(num)\n",
        "    \n"
      ],
      "execution_count": null,
      "outputs": []
    },
    {
      "cell_type": "markdown",
      "metadata": {
        "id": "xJlPs9X9oeRw",
        "colab_type": "text"
      },
      "source": [
        "---"
      ]
    },
    {
      "cell_type": "markdown",
      "metadata": {
        "id": "qA-b1CdeofKc",
        "colab_type": "text"
      },
      "source": [
        "### Activity 2: Stupid Addition\n",
        "\n",
        "Create a function that takes two parameters and if both parameters are strings, add them as if they were integers or if the two parameters are integers, concatenate them.\n",
        "\n",
        "For e.g., \n",
        "\n",
        "- if a = 1 and b = 2, the required output is '12'.\n",
        "\n",
        "- if a = '1' and b = '2', the required output is 3.\n",
        "\n",
        "**Hint**\n",
        "\n",
        "If the datatype of `a` and `b` are integers (`int`) then first convert them to string (`str`) datatype and simply add them like integers and vice-versa.  \n"
      ]
    },
    {
      "cell_type": "code",
      "metadata": {
        "id": "AtvPTG3kpBoS",
        "colab_type": "code",
        "colab": {
          "base_uri": "https://localhost:8080/",
          "height": 50
        },
        "outputId": "01537956-df42-4a6e-a85a-8d0c52302fb8"
      },
      "source": [
        "# Write your solution here.\n",
        "def stupid_addition(a,b):\n",
        "  if type(a)==str and type(b)==str:\n",
        "    a=int(a)\n",
        "    b=int(b)\n",
        "    print(a+b)\n",
        "  elif type(a)==int and type(b)==int:\n",
        "    a=str(a)\n",
        "    b=str(b)\n",
        "    print(a+b)\n",
        "stupid_addition(1,2)\n",
        "stupid_addition(\"2\",\"5\")"
      ],
      "execution_count": null,
      "outputs": [
        {
          "output_type": "stream",
          "text": [
            "12\n",
            "7\n"
          ],
          "name": "stdout"
        }
      ]
    },
    {
      "cell_type": "markdown",
      "metadata": {
        "id": "KOVBiUSMzut1",
        "colab_type": "text"
      },
      "source": [
        "---"
      ]
    },
    {
      "cell_type": "markdown",
      "metadata": {
        "id": "BNlGj8NNJ1Y0",
        "colab_type": "text"
      },
      "source": [
        "### How To Solve & Submit The Hand Out\n",
        "\n",
        "Follow the steps described below to solve the Hand Out and then submit it.\n",
        "\n",
        "1. Click on the link provided below to open the Colab file for this Hand Out.\n",
        "   \n",
        "    https://colab.research.google.com/drive/1jr_rnHKPqf-rdjDoTzk5ThnoLQDy7VM_ \n",
        "\n",
        "2. Create the duplicate copy of the Colab file. Here are the steps to create the duplicate copy:\n",
        "\n",
        "    - Click on the **File** menu. A new drop-down list will appear.\n",
        "\n",
        "      <img src='https://student-datasets-bucket.s3.ap-south-1.amazonaws.com/images/lesson-0/0_file_menu.png' width=500>\n",
        "\n",
        "    - Click on the **Save a copy in Drive** option. A duplicate copy will get created. It will open up in the new tab on your web browser.\n",
        "\n",
        "      <img src='https://student-datasets-bucket.s3.ap-south-1.amazonaws.com/images/lesson-0/1_create_colab_duplicate_copy.png' width=500>\n",
        "\n",
        "     - After creating the duplicate copy of the notebook, please rename it in the **YYYY-MM-DD_StudentName_Handout3** format. \n",
        "\n",
        "3. Now, write your code in the prescribed code cells.\n",
        "\n",
        "4. After finishing the Hand Out, click on the **Share** button on the top right corner of the notebook. A new dialog box will appear.\n",
        "\n",
        "  <img src='https://student-datasets-bucket.s3.ap-south-1.amazonaws.com/images/lesson-0/2_share_button.png' width=500>\n",
        "\n",
        "5. In the dialog box, make sure that 'Anyone with the link **can view**' option is selected and then click on the **Copy link** button.\n",
        "\n",
        "   <img src='https://student-datasets-bucket.s3.ap-south-1.amazonaws.com/images/project-1/1_copy_link.png' width=500>\n",
        "\n",
        "6. The link of the duplicate copy (named as **YYYY-MM-DD_StudentName_Handout3**) of the notebook will get copied which you can paste in the submission box on the WhiteHat Jr project submission interface.\n",
        "\n",
        "   <img src='https://student-datasets-bucket.s3.ap-south-1.amazonaws.com/images/project-1/2_copy_link_confirmation.png' width=500>"
      ]
    }
  ]
}