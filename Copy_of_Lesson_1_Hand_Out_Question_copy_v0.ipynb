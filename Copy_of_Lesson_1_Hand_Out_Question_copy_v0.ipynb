{
  "nbformat": 4,
  "nbformat_minor": 0,
  "metadata": {
    "colab": {
      "name": "Copy of Lesson 1 Hand Out - Question_copy_v0",
      "provenance": [],
      "collapsed_sections": [],
      "include_colab_link": true
    },
    "kernelspec": {
      "name": "python3",
      "display_name": "Python 3"
    }
  },
  "cells": [
    {
      "cell_type": "markdown",
      "metadata": {
        "id": "view-in-github",
        "colab_type": "text"
      },
      "source": [
        "<a href=\"https://colab.research.google.com/github/CoolAdito/Colab-Sheet1/blob/master/Copy_of_Lesson_1_Hand_Out_Question_copy_v0.ipynb\" target=\"_parent\"><img src=\"https://colab.research.google.com/assets/colab-badge.svg\" alt=\"Open In Colab\"/></a>"
      ]
    },
    {
      "cell_type": "markdown",
      "metadata": {
        "id": "YZnBY81YDCCr",
        "colab_type": "text"
      },
      "source": [
        "### Table of Contents\n",
        "\n",
        "Here is a list of Activities that you will be performing in this Hand Out,\n",
        "\n",
        "  1. Assigning values\n",
        "\n",
        "  2. Roll 2 Dices\n",
        "\n",
        "  3. Storing values in Variable"
      ]
    },
    {
      "cell_type": "markdown",
      "metadata": {
        "id": "BBqkpH4_Doqe",
        "colab_type": "text"
      },
      "source": [
        "---"
      ]
    },
    {
      "cell_type": "markdown",
      "metadata": {
        "id": "q4fH06mIjuK3",
        "colab_type": "text"
      },
      "source": [
        "### Activity 1: Assigning values\n",
        "\n",
        "You can assign the same value to multiple variables, using the single line assignment feature of Python. \n",
        "\n",
        "Suppose if three employees in an organisation have same salary package of Rs. 50,000 per month, Then you can assign the value 50000 in variables `rakesh_sal`, `deepk_sal` and `rohan_sal` in a single line.\n"
      ]
    },
    {
      "cell_type": "code",
      "metadata": {
        "id": "4EAoTskqg041",
        "colab_type": "code",
        "colab": {}
      },
      "source": [
        "# Assisgn value 50000 to three different variables in a single line and print their values\n"
      ],
      "execution_count": 1,
      "outputs": []
    },
    {
      "cell_type": "code",
      "metadata": {
        "id": "LTnI6EfnVT9b",
        "colab_type": "code",
        "colab": {
          "base_uri": "https://localhost:8080/",
          "height": 34
        },
        "outputId": "305a408c-b727-4973-cbf2-09f642a353f7"
      },
      "source": [
        "print(\"rakesh_sal,deepk_sal,rohan_sal=50000\")"
      ],
      "execution_count": 6,
      "outputs": [
        {
          "output_type": "stream",
          "text": [
            "rakesh_sal,deepk_sal,rohan_sal=50000\n"
          ],
          "name": "stdout"
        }
      ]
    },
    {
      "cell_type": "markdown",
      "metadata": {
        "id": "qA-b1CdeofKc",
        "colab_type": "text"
      },
      "source": [
        "### Activity 2: Roll 2 Dices\n",
        "\n",
        "Roll two dices and store the outcome in two separate variables. Each dice will give a random number in a range 1 - 6 and print the outcome of both dices."
      ]
    },
    {
      "cell_type": "code",
      "metadata": {
        "id": "AtvPTG3kpBoS",
        "colab_type": "code",
        "colab": {}
      },
      "source": [
        "# Roll 2 dices & print their outcome\n",
        "import random\n",
        "def Rolldice():\n",
        "  number=random.radint(1,6)\n",
        "  print(Rolldice)\n",
        "                      "
      ],
      "execution_count": 8,
      "outputs": []
    },
    {
      "cell_type": "markdown",
      "metadata": {
        "id": "2O4X0aGB3dJm",
        "colab_type": "text"
      },
      "source": [
        "**Que. :** What is the outcome of 1st dice ?\n",
        "\n",
        "**Ans. :** \n",
        "\n",
        "**Que. :** What is the outcome of 2nd dice ?\n",
        "\n",
        "**Ans. :** \n",
        "\n",
        "**Que. :** Are the values of dice_1 and dice_2 similar ? \n",
        "\n",
        "**Ans. :** "
      ]
    },
    {
      "cell_type": "markdown",
      "metadata": {
        "id": "KOVBiUSMzut1",
        "colab_type": "text"
      },
      "source": [
        "---"
      ]
    },
    {
      "cell_type": "markdown",
      "metadata": {
        "id": "omNV0VCwzzNK",
        "colab_type": "text"
      },
      "source": [
        "### Activity 3: Storing values in Variable\n",
        "\n",
        "  - Get the Name of the user as an input and store it in a variable (let's say `my_var`).\n",
        "\n",
        "  - Get the age of the user as an input and store it in the same variable (`my_var`) that you have created above."
      ]
    },
    {
      "cell_type": "code",
      "metadata": {
        "id": "3ekesgnN2ELc",
        "colab_type": "code",
        "colab": {}
      },
      "source": [
        "# Store the Name and Age of the user in same variable name one after the other.\n"
      ],
      "execution_count": 4,
      "outputs": []
    },
    {
      "cell_type": "markdown",
      "metadata": {
        "id": "tyJDxDur2EsO",
        "colab_type": "text"
      },
      "source": [
        "**Que. :** What will be the current value stored in the variable?\n",
        "\n",
        "A. (Name)\n",
        "\n",
        "B. (Age)\n",
        "\n",
        "C. Throw an Error\n",
        "\n",
        "**Ans. :** "
      ]
    },
    {
      "cell_type": "markdown",
      "metadata": {
        "id": "QQw2Bqml3ZN0",
        "colab_type": "text"
      },
      "source": [
        "---"
      ]
    },
    {
      "cell_type": "markdown",
      "metadata": {
        "id": "BNlGj8NNJ1Y0",
        "colab_type": "text"
      },
      "source": [
        "### How To Solve & Submit The Hand Out\n",
        "\n",
        "Follow the steps described below to solve the Hand Out and then submit it.\n",
        "\n",
        "1. Click on the link provided below to open the Colab file for this Hand Out.\n",
        "   \n",
        "   https://colab.research.google.com/drive/1wGABm5Owoagru_1MF_aLQU5yNQBuu6Ee \n",
        "\n",
        "2. Create the duplicate copy of the Colab file. Here are the steps to create the duplicate copy:\n",
        "\n",
        "    - Click on the **File** menu. A new drop-down list will appear.\n",
        "\n",
        "      <img src='https://student-datasets-bucket.s3.ap-south-1.amazonaws.com/images/lesson-0/0_file_menu.png' width=500>\n",
        "\n",
        "    - Click on the **Save a copy in Drive** option. A duplicate copy will get created. It will open up in the new tab on your web browser.\n",
        "\n",
        "      <img src='https://student-datasets-bucket.s3.ap-south-1.amazonaws.com/images/lesson-0/1_create_colab_duplicate_copy.png' width=500>\n",
        "\n",
        "     - After creating the duplicate copy of the notebook, please rename it in the **YYYY-MM-DD_StudentName_Handout1** format. \n",
        "\n",
        "3. Now, write your code in the prescribed code cells.\n",
        "\n",
        "4. After finishing the Hand Out, click on the **Share** button on the top right corner of the notebook. A new dialog box will appear.\n",
        "\n",
        "  <img src='https://student-datasets-bucket.s3.ap-south-1.amazonaws.com/images/lesson-0/2_share_button.png' width=500>\n",
        "\n",
        "5. In the dialog box, make sure that 'Anyone with the link **can view**' option is selected and then click on the **Copy link** button.\n",
        "\n",
        "   <img src='https://student-datasets-bucket.s3.ap-south-1.amazonaws.com/images/project-1/1_copy_link.png' width=500>\n",
        "\n",
        "6. The link of the duplicate copy (named as **YYYY-MM-DD_StudentName_Handout1**) of the notebook will get copied which you can paste in the submission box on the WhiteHat Jr project submission interface.\n",
        "\n",
        "   <img src='https://student-datasets-bucket.s3.ap-south-1.amazonaws.com/images/project-1/2_copy_link_confirmation.png' width=500>"
      ]
    }
  ]
}